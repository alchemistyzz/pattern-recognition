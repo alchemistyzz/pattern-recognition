{
 "cells": [
  {
   "cell_type": "markdown",
   "metadata": {},
   "source": [
    "读入数据"
   ]
  },
  {
   "cell_type": "code",
   "execution_count": 9,
   "metadata": {},
   "outputs": [
    {
     "data": {
      "text/plain": [
       "array([5, 1, 2, 6, 1, 3, 7, 5])"
      ]
     },
     "execution_count": 9,
     "metadata": {},
     "output_type": "execute_result"
    }
   ],
   "source": [
    "import numpy as np\n",
    "axis = np.array([[5,2],[1,2],[2,1],[6,2],\n",
    "                [1,1],[3,1],[7,-1],[5,-1]\n",
    "                ])\n",
    "                \n",
    "axis_x = axis[:,0]\n",
    "axis_y = axis[:,1]\n",
    "axis_x\n"
   ]
  },
  {
   "cell_type": "code",
   "execution_count": 10,
   "metadata": {},
   "outputs": [
    {
     "data": {
      "image/png": "[encoded data removed]",
      "text/plain": [
       "<Figure size 432x288 with 1 Axes>"
      ]
     },
     "metadata": {
      "needs_background": "light"
     },
     "output_type": "display_data"
    }
   ],
   "source": [
    "import matplotlib.pyplot as plt\n",
    "_yticks = [i for i in range(-1,3,1) ]\n",
    "plt.yticks(_yticks)\n",
    "plt.scatter(axis_x,axis_y)\n",
    "plt.show()"
   ]
  },
  {
   "cell_type": "code",
   "execution_count": 11,
   "metadata": {},
   "outputs": [
    {
     "data": {
      "text/plain": [
       "array([[ 5,  2],\n",
       "       [ 1,  2],\n",
       "       [ 2,  1],\n",
       "       [ 6,  2],\n",
       "       [ 1,  1],\n",
       "       [ 3,  1],\n",
       "       [ 7, -1],\n",
       "       [ 5, -1]])"
      ]
     },
     "execution_count": 11,
     "metadata": {},
     "output_type": "execute_result"
    }
   ],
   "source": [
    "axis"
   ]
  },
  {
   "cell_type": "markdown",
   "metadata": {},
   "source": [
    "顺序聚类"
   ]
  },
  {
   "cell_type": "code",
   "execution_count": 20,
   "metadata": {},
   "outputs": [
    {
     "data": {
      "text/plain": [
       "[0, 1, 1, 0, 1, 1, 0, 0]"
      ]
     },
     "execution_count": 20,
     "metadata": {},
     "output_type": "execute_result"
    }
   ],
   "source": [
    "label=[0,1,1,0,1,1,0,0]\n",
    "label"
   ]
  },
  {
   "cell_type": "markdown",
   "metadata": {},
   "source": [
    "Kmeans"
   ]
  },
  {
   "cell_type": "code",
   "execution_count": 17,
   "metadata": {},
   "outputs": [
    {
     "name": "stdout",
     "output_type": "stream",
     "text": [
      "k均值模型:\n",
      " KMeans(n_clusters=2)\n",
      "聚类结果:\n",
      " [0 1 1 0 1 1 0 0]\n"
     ]
    }
   ],
   "source": [
    "from sklearn.cluster import KMeans\n",
    "clf = KMeans(n_clusters=2)\n",
    "y_pred_kmeans = clf.fit_predict(axis)\n",
    "# 输出完整Kmeans函数，包括很多省略参数\n",
    "print('k均值模型:\\n',clf)\n",
    "# 输出聚类预测结果，20行数据，每个y_pred对应X一行或一个球员，聚成3类，类标为0、1、2\n",
    "print('聚类结果:\\n',y_pred_kmeans)\n"
   ]
  },
  {
   "cell_type": "markdown",
   "metadata": {},
   "source": [
    "谱聚类"
   ]
  },
  {
   "cell_type": "code",
   "execution_count": 18,
   "metadata": {},
   "outputs": [
    {
     "name": "stdout",
     "output_type": "stream",
     "text": [
      "谱聚类模型:\n",
      " SpectralClustering(gamma=1, n_clusters=2)\n",
      "聚类结果:\n",
      " [0 1 1 0 1 1 0 0]\n"
     ]
    }
   ],
   "source": [
    "from sklearn.cluster import SpectralClustering as sc\n",
    "clf= sc(gamma=1,n_clusters=2)\n",
    "y_pred_sc = clf.fit_predict(axis)\n",
    "# 输出完整Kmeans函数，包括很多省略参数\n",
    "print('谱聚类模型:\\n',clf)\n",
    "# 输出聚类预测结果，20行数据，每个y_pred对应X一行或一个球员，聚成3类，类标为0、1、2\n",
    "print('聚类结果:\\n',y_pred_sc)"
   ]
  },
  {
   "cell_type": "markdown",
   "metadata": {},
   "source": [
    "计算距离矩阵"
   ]
  },
  {
   "cell_type": "code",
   "execution_count": 24,
   "metadata": {},
   "outputs": [
    {
     "data": {
      "text/plain": [
       "array([[0.        , 4.        , 3.16227766, 1.        , 4.12310563,\n",
       "        2.23606798, 3.60555128, 3.        ],\n",
       "       [4.        , 0.        , 1.41421356, 5.        , 1.        ,\n",
       "        2.23606798, 6.70820393, 5.        ],\n",
       "       [3.16227766, 1.41421356, 0.        , 4.12310563, 1.        ,\n",
       "        1.        , 5.38516481, 3.60555128],\n",
       "       [1.        , 5.        , 4.12310563, 0.        , 5.09901951,\n",
       "        3.16227766, 3.16227766, 3.16227766],\n",
       "       [4.12310563, 1.        , 1.        , 5.09901951, 0.        ,\n",
       "        2.        , 6.32455532, 4.47213595],\n",
       "       [2.23606798, 2.23606798, 1.        , 3.16227766, 2.        ,\n",
       "        0.        , 4.47213595, 2.82842712],\n",
       "       [3.60555128, 6.70820393, 5.38516481, 3.16227766, 6.32455532,\n",
       "        4.47213595, 0.        , 2.        ],\n",
       "       [3.        , 5.        , 3.60555128, 3.16227766, 4.47213595,\n",
       "        2.82842712, 2.        , 0.        ]])"
      ]
     },
     "execution_count": 24,
     "metadata": {},
     "output_type": "execute_result"
    }
   ],
   "source": [
    "n,m=axis.shape\n",
    "D = np.zeros([n,n])\n",
    "for i in range(n):\n",
    "    for j in range(i+1,n):\n",
    "        d =  axis[i,:]-axis[j,:]\n",
    "        D[i,j] = np.sqrt(np.dot(d,d))\n",
    "        D[j,i] = D[i,j]\n",
    "D\n"
   ]
  },
  {
   "cell_type": "code",
   "execution_count": 25,
   "metadata": {},
   "outputs": [
    {
     "name": "stdout",
     "output_type": "stream",
     "text": [
      "min_d= 2.23606797749979\n",
      "max_d0= 3.605551275463989\n",
      "min_d1= 3.605551275463989\n",
      "J_Dunn 0.6201736729460423\n"
     ]
    }
   ],
   "source": [
    "label0=[0,3,6,7]\n",
    "label1=[1,2,4,5]\n",
    "min_d = D[0][1]\n",
    "for i in label0:\n",
    "    for j in label1:\n",
    "        min_d = min(D[i][j],min_d)\n",
    "max_d0=0\n",
    "for i in label0:\n",
    "    for j in label0:\n",
    "        if(i!=j):\n",
    "            max_d0=max(D[i][j],max_d0)\n",
    "max_d1=0\n",
    "for i in label0:\n",
    "    for j in label0:\n",
    "        if(i!=j):\n",
    "            max_d1=max(D[i][j],max_d1)\n",
    "print(\"min_d=\",min_d)\n",
    "print(\"max_d0=\",max_d0)\n",
    "print(\"min_d1=\",max_d1)\n",
    "max_d = max(max_d0,max_d1)\n",
    "J_Dunn = min_d/max_d\n",
    "print(\"J_Dunn\",J_Dunn)\n",
    "\n"
   ]
  },
  {
   "cell_type": "code",
   "execution_count": 30,
   "metadata": {},
   "outputs": [
    {
     "name": "stdout",
     "output_type": "stream",
     "text": [
      "Davies-Bouldin-score:  0.6331473961991908\n"
     ]
    }
   ],
   "source": [
    "from sklearn import metrics\n",
    "from pandas.core.frame import DataFrame\n",
    "df = DataFrame(axis)\n",
    "score = metrics.davies_bouldin_score(df, label)\n",
    "print(\"Davies-Bouldin-score: \", score)"
   ]
  }
 ],
 "metadata": {
  "kernelspec": {
   "display_name": "Python 3.9.12 ('base')",
   "language": "python",
   "name": "python3"
  },
  "language_info": {
   "codemirror_mode": {
    "name": "ipython",
    "version": 3
   },
   "file_extension": ".py",
   "mimetype": "text/x-python",
   "name": "python",
   "nbconvert_exporter": "python",
   "pygments_lexer": "ipython3",
   "version": "3.9.12"
  },
  "orig_nbformat": 4,
  "vscode": {
   "interpreter": {
    "hash": "bdff58946e7ac101e2d962a079e637f3aea9103492e314fad33fbfdd566ea598"
   }
  }
 },
 "nbformat": 4,
 "nbformat_minor": 2
}
