{
 "cells": [
  {
   "cell_type": "markdown",
   "metadata": {},
   "source": [
    "第1问"
   ]
  },
  {
   "cell_type": "code",
   "execution_count": 17,
   "metadata": {},
   "outputs": [],
   "source": [
    "import pandas as pd\n",
    "import numpy as np\n",
    "data =[[1,2,1],\n",
    "       [2,3,1],\n",
    "       [3,3,1],\n",
    "       [4,5,1],\n",
    "       [5,5,1],\n",
    "       [1,0,2],\n",
    "       [2,1,2],\n",
    "       [3,1,2],\n",
    "       [3,2,2],\n",
    "       [5,3,2],\n",
    "       [6,5,2]]\n",
    "df = pd.DataFrame(data,columns=['X','Y','target'])\n",
    "df_X=df[['X','Y']]\n",
    "X=df_X.to_numpy()\n",
    "df_Y=df[['target']]\n",
    "Y=df_Y.to_numpy()\n",
    "c_1=X[0:5][:]\n",
    "c_2=X[5:-1][:]"
   ]
  },
  {
   "cell_type": "code",
   "execution_count": 18,
   "metadata": {},
   "outputs": [],
   "source": [
    "def cal_cov_and_avg(samples):\n",
    "    \"\"\"\n",
    "    给定一个类别的数据，计算协方差矩阵和平均向量\n",
    "    :param samples: \n",
    "    :return: \n",
    "    \"\"\"\n",
    "    u1 = np.mean(samples, axis=0)\n",
    "    cov_m = np.zeros((samples.shape[1], samples.shape[1]))\n",
    "    for s in samples:\n",
    "        t = s - u1\n",
    "        cov_m += t * t.reshape(2, 1)\n",
    "    return cov_m, u1\n",
    "\n",
    "\n",
    "def fisher(c_1, c_2):\n",
    "    \"\"\"\n",
    "    fisher算法实现(请参考上面推导出来的公式，那个才是精华部分)\n",
    "    :param c_1: \n",
    "    :param c_2: \n",
    "    :return: \n",
    "    \"\"\"\n",
    "    cov_1, u1 = cal_cov_and_avg(c_1)\n",
    "    cov_2, u2 = cal_cov_and_avg(c_2)\n",
    "    s_w = cov_1 + cov_2\n",
    "    u, s, v = np.linalg.svd(s_w)  # 奇异值分解\n",
    "    s_w_inv = np.dot(np.dot(v.T, np.linalg.inv(np.diag(s))), u.T)\n",
    "    return np.dot(s_w_inv, u1 - u2)"
   ]
  },
  {
   "cell_type": "code",
   "execution_count": 19,
   "metadata": {},
   "outputs": [
    {
     "name": "stdout",
     "output_type": "stream",
     "text": [
      "True\n"
     ]
    }
   ],
   "source": [
    "def judge(sample, w, c_1, c_2):\n",
    "    \"\"\"\n",
    "    true 属于1\n",
    "    false 属于2\n",
    "    :param sample:\n",
    "    :param w:\n",
    "    :param center_1:\n",
    "    :param center_2:\n",
    "    :return:\n",
    "    \"\"\"\n",
    "    u1 = np.mean(c_1, axis=0)\n",
    "    u2 = np.mean(c_2, axis=0)\n",
    "    center_1 = np.dot(w.T, u1)\n",
    "    center_2 = np.dot(w.T, u2)\n",
    "    pos = np.dot(w.T, sample)\n",
    "    return abs(pos - center_1) < abs(pos - center_2)\n",
    "\n",
    "\n",
    "w = fisher(c_1, c_2)  # 调用函数，得到参数w\n",
    "out = judge(c_1[1], w, c_1, c_2)   # 判断所属的类别\n",
    "print(out)"
   ]
  },
  {
   "cell_type": "code",
   "execution_count": 20,
   "metadata": {},
   "outputs": [
    {
     "data": {
      "image/png": "[encoded data removed]",
      "text/plain": [
       "<Figure size 432x288 with 1 Axes>"
      ]
     },
     "metadata": {
      "needs_background": "light"
     },
     "output_type": "display_data"
    }
   ],
   "source": [
    "import matplotlib.pyplot as plt\n",
    "\n",
    "plt.scatter(c_1[:, 0], c_1[:, 1], c='#99CC99')\n",
    "plt.scatter(c_2[:, 0], c_2[:, 1], c='#FFCC00')\n",
    "line_x = np.arange(min(np.min(c_1[:, 0]), np.min(c_2[:, 0])),\n",
    "                   max(np.max(c_1[:, 0]), np.max(c_2[:, 0])),\n",
    "                   step=1)\n",
    "\n",
    "line_y = - (w[0] * line_x) / w[1]\n",
    "plt.plot(line_x, line_y)\n",
    "plt.show()"
   ]
  },
  {
   "cell_type": "markdown",
   "metadata": {},
   "source": [
    "第3问"
   ]
  },
  {
   "cell_type": "code",
   "execution_count": 4,
   "metadata": {},
   "outputs": [
    {
     "name": "stderr",
     "output_type": "stream",
     "text": [
      "h:\\ANACONDA\\lib\\site-packages\\sklearn\\utils\\validation.py:993: DataConversionWarning: A column-vector y was passed when a 1d array was expected. Please change the shape of y to (n_samples, ), for example using ravel().\n",
      "  y = column_or_1d(y, warn=True)\n"
     ]
    },
    {
     "data": {
      "text/plain": [
       "LinearDiscriminantAnalysis()"
      ]
     },
     "execution_count": 4,
     "metadata": {},
     "output_type": "execute_result"
    }
   ],
   "source": [
    "from sklearn import discriminant_analysis\n",
    "#定义Fisher分类器对象fisher_clf\n",
    "fisher_clf = discriminant_analysis.LinearDiscriminantAnalysis()\n",
    "#调用该对象的训练方法\n",
    "fisher_clf.fit(X,Y)"
   ]
  },
  {
   "cell_type": "code",
   "execution_count": 5,
   "metadata": {},
   "outputs": [
    {
     "name": "stdout",
     "output_type": "stream",
     "text": [
      "测试数据集的正确标签为: [[1]\n",
      " [1]\n",
      " [1]\n",
      " [1]\n",
      " [1]\n",
      " [2]\n",
      " [2]\n",
      " [2]\n",
      " [2]\n",
      " [2]\n",
      " [2]]\n",
      "测试数据集的预测标签为: [1 1 1 1 1 2 2 2 2 2 2]\n",
      "Fisher线性分类器测试准确率: 100.00%\n"
     ]
    }
   ],
   "source": [
    "y_pred=fisher_clf.predict(X)\n",
    "print('测试数据集的正确标签为:',Y)\n",
    "print('测试数据集的预测标签为:',y_pred)\n",
    "from sklearn.metrics import accuracy_score\n",
    "testing_acc=accuracy_score(Y, y_pred)*100\n",
    "print('Fisher线性分类器测试准确率: {:.2f}%'.format(testing_acc))"
   ]
  }
 ],
 "metadata": {
  "kernelspec": {
   "display_name": "Python 3.9.12 ('base')",
   "language": "python",
   "name": "python3"
  },
  "language_info": {
   "codemirror_mode": {
    "name": "ipython",
    "version": 3
   },
   "file_extension": ".py",
   "mimetype": "text/x-python",
   "name": "python",
   "nbconvert_exporter": "python",
   "pygments_lexer": "ipython3",
   "version": "3.9.12"
  },
  "orig_nbformat": 4,
  "vscode": {
   "interpreter": {
    "hash": "bdff58946e7ac101e2d962a079e637f3aea9103492e314fad33fbfdd566ea598"
   }
  }
 },
 "nbformat": 4,
 "nbformat_minor": 2
}
