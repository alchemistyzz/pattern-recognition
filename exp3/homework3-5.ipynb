{
 "cells": [
  {
   "cell_type": "code",
   "execution_count": 3,
   "metadata": {},
   "outputs": [
    {
     "name": "stdout",
     "output_type": "stream",
     "text": [
      "Error:0.13119485955513172\n",
      "Error:-0.0012982018831981643\n",
      "Error:-0.0009644311240975727\n",
      "Error:-0.0008070427644909614\n",
      "Error:-0.0007099194001720683\n",
      "Error:-0.000642058784949639\n",
      "outout after Training:\n",
      "[[0.99842674]\n",
      " [0.00273346]\n",
      " [0.99842032]\n",
      " [0.00276148]\n",
      " [0.99845609]\n",
      " [0.00277685]\n",
      " [0.99837683]\n",
      " [0.00277685]]\n"
     ]
    }
   ],
   "source": [
    "import numpy as np\n",
    "\n",
    "#定义sigmoid函数 \n",
    "def sigmoid(x, deriv = False):\n",
    "    if(deriv == True):\n",
    "        return x*(1-x)\n",
    "    else:\n",
    "        return 1/(1+np.exp(-x))\n",
    " \n",
    "#input dataset\n",
    "X = np.array([[-1,-1],\n",
    "             [-1,-1],\n",
    "             [1,1],\n",
    "             [-1,1],\n",
    "             [1,-1],\n",
    "             [1,1],\n",
    "             [-1,1],\n",
    "             [1,1]])\n",
    " \n",
    "#output dataset\n",
    "y = np.array([[1,0,1,0,1,0,1,0]]).T\n",
    "\n",
    "#初始化权重\n",
    "weight01 = 2*np.random.random((2,4)) - 1 \n",
    "weight12 = 2*np.random.random((4,2)) - 1\n",
    "weight23 = 2*np.random.random((2,1)) - 1\n",
    "\n",
    "#初始化偏倚\n",
    "b1 = 2*np.random.random((1,4)) - 1 \n",
    "b2 = 2*np.random.random((1,2)) - 1\n",
    "b3 = 2*np.random.random((1,1)) - 1\n",
    "bias1=np.array([b1[0],b1[0],b1[0],b1[0],b1[0],b1[0],b1[0],b1[0]])\n",
    "bias2=np.array([b2[0],b2[0],b2[0],b2[0],b2[0],b2[0],b2[0],b2[0]])\n",
    "bias3=np.array([b3[0],b3[0],b3[0],b3[0],b3[0],b3[0],b3[0],b3[0]])\n",
    "\n",
    "#开始训练\n",
    "for j in range(60000):\n",
    "    I0 = X\n",
    "    O0=I0\n",
    "    I1=np.dot(O0,weight01)+bias1\n",
    "    O1=sigmoid(I1)\n",
    "    I2=np.dot(O1,weight12)+bias2\n",
    "    O2=sigmoid(I2)\n",
    "    I3=np.dot(O2,weight23)+bias3\n",
    "    O3=sigmoid(I3)\n",
    "\n",
    "    f3_error = y-O3       \n",
    " \n",
    "    if(j%10000) == 0:\n",
    "        print (\"Error:\"+str(np.mean(f3_error)))\n",
    "\n",
    "    \n",
    "    \n",
    "\n",
    "    f3_delta = f3_error*sigmoid(O3,deriv = True)\n",
    " \n",
    "    f2_error = f3_delta.dot(weight23.T)\n",
    " \n",
    "    f2_delta = f2_error*sigmoid(O2,deriv = True)\n",
    " \n",
    "    f1_error = f2_delta.dot(weight12.T)     \n",
    " \n",
    "    f1_delta = f1_error*sigmoid(O1,deriv = True)\n",
    "\n",
    "\n",
    "    weight23 += O2.T.dot(f3_delta) #调整权重\n",
    "    weight12 += O1.T.dot(f2_delta)\n",
    "    weight01 += O0.T.dot(f1_delta)\n",
    "\n",
    "    bias3 += f3_delta #调整偏倚\n",
    "    bias2 += f2_delta\n",
    "    bias1 += f1_delta\n",
    "    \n",
    "print (\"outout after Training:\")\n",
    "print (O3)"
   ]
  }
 ],
 "metadata": {
  "kernelspec": {
   "display_name": "Python 3.9.12 ('base')",
   "language": "python",
   "name": "python3"
  },
  "language_info": {
   "codemirror_mode": {
    "name": "ipython",
    "version": 3
   },
   "file_extension": ".py",
   "mimetype": "text/x-python",
   "name": "python",
   "nbconvert_exporter": "python",
   "pygments_lexer": "ipython3",
   "version": "3.9.12"
  },
  "orig_nbformat": 4,
  "vscode": {
   "interpreter": {
    "hash": "bdff58946e7ac101e2d962a079e637f3aea9103492e314fad33fbfdd566ea598"
   }
  }
 },
 "nbformat": 4,
 "nbformat_minor": 2
}
